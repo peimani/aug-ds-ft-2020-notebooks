{
 "cells": [
  {
   "cell_type": "markdown",
   "metadata": {},
   "source": [
    "# Objectives\n",
    "YWBAT \n",
    "* use OOP to build an API in Python\n",
    "* use class inheritance in OOP in Python\n",
    "* define a static method\n",
    "    - a method that does not require 'self'\n",
    "    -i.e. @blahblah is a decorator that tells the function  to not to expect 'self'\n",
    "    \n",
    "* build a static method\n",
    "\n",
    "# Outcomes\n",
    "* Use OOP to create APIs to access data. Queries should take in parameters and deal with them on the backend"
   ]
  },
  {
   "cell_type": "code",
   "execution_count": 7,
   "metadata": {
    "ExecuteTime": {
     "end_time": "2020-10-20T19:10:25.270556Z",
     "start_time": "2020-10-20T19:10:24.556928Z"
    }
   },
   "outputs": [],
   "source": [
    "import warnings\n",
    "warnings.filterwarnings('ignore')\n",
    "import os\n",
    "\n",
    "\n",
    "import requests\n",
    "import json\n",
    "\n",
    "import pandas as pd\n",
    "import numpy as np"
   ]
  },
  {
   "cell_type": "code",
   "execution_count": 5,
   "metadata": {
    "ExecuteTime": {
     "end_time": "2020-10-20T18:47:12.332039Z",
     "start_time": "2020-10-20T18:47:12.325157Z"
    }
   },
   "outputs": [],
   "source": [
    "class RickAndMorty():\n",
    "# base api    \n",
    "    \n",
    "\n",
    "    def __init__(self):\n",
    "        self.base_url = \"https://rickandmortyapi.com/api/\"\n",
    "    \n",
    "    def find_character(self, **params):\n",
    "        \"\"\"\n",
    "        **params:\n",
    "            name: filter by the given name.\n",
    "            status: filter by the given status (alive)\"\"\"\n",
    "        endpoint = 'character'\n",
    "        final_endpoint = os.path.join(self.base_url, endpoint)\n",
    "        r = requests.get(final_endpoint, params=params)\n",
    "        return r.json()\n",
    "\n",
    "    \n",
    "# endpoints\n",
    "# characters\n",
    "# locations\n",
    "# episodes"
   ]
  },
  {
   "cell_type": "code",
   "execution_count": 7,
   "metadata": {
    "ExecuteTime": {
     "end_time": "2020-10-20T18:34:06.578412Z",
     "start_time": "2020-10-20T18:34:06.575149Z"
    }
   },
   "outputs": [],
   "source": [
    "# params = {'name': 'Birdperson'}\n",
    "# endpoint = 'character'"
   ]
  },
  {
   "cell_type": "code",
   "execution_count": 8,
   "metadata": {
    "ExecuteTime": {
     "end_time": "2020-10-20T18:34:07.628479Z",
     "start_time": "2020-10-20T18:34:06.947535Z"
    }
   },
   "outputs": [],
   "source": [
    "\n",
    "# full_endpoint = os.path.join(url, endpoint)\n",
    "# r = requests.get(full_endpoint, params=params)"
   ]
  },
  {
   "cell_type": "code",
   "execution_count": 10,
   "metadata": {
    "ExecuteTime": {
     "end_time": "2020-10-20T18:34:35.136776Z",
     "start_time": "2020-10-20T18:34:35.128249Z"
    }
   },
   "outputs": [
    {
     "data": {
      "text/plain": [
       "{'info': {'count': 2, 'pages': 1, 'next': None, 'prev': None},\n",
       " 'results': [{'id': 47,\n",
       "   'name': 'Birdperson',\n",
       "   'status': 'Dead',\n",
       "   'species': 'Alien',\n",
       "   'type': 'Bird-Person',\n",
       "   'gender': 'Male',\n",
       "   'origin': {'name': 'Bird World',\n",
       "    'url': 'https://rickandmortyapi.com/api/location/15'},\n",
       "   'location': {'name': 'Planet Squanch',\n",
       "    'url': 'https://rickandmortyapi.com/api/location/35'},\n",
       "   'image': 'https://rickandmortyapi.com/api/character/avatar/47.jpeg',\n",
       "   'episode': ['https://rickandmortyapi.com/api/episode/11',\n",
       "    'https://rickandmortyapi.com/api/episode/16',\n",
       "    'https://rickandmortyapi.com/api/episode/21',\n",
       "    'https://rickandmortyapi.com/api/episode/22',\n",
       "    'https://rickandmortyapi.com/api/episode/26'],\n",
       "   'url': 'https://rickandmortyapi.com/api/character/47',\n",
       "   'created': '2017-11-05T11:13:36.018Z'},\n",
       "  {'id': 599,\n",
       "   'name': 'Birdperson',\n",
       "   'status': 'Alive',\n",
       "   'species': 'Alien',\n",
       "   'type': 'Soulless Puppet',\n",
       "   'gender': 'Male',\n",
       "   'origin': {'name': 'Story Train',\n",
       "    'url': 'https://rickandmortyapi.com/api/location/96'},\n",
       "   'location': {'name': 'Story Train',\n",
       "    'url': 'https://rickandmortyapi.com/api/location/96'},\n",
       "   'image': 'https://rickandmortyapi.com/api/character/avatar/599.jpeg',\n",
       "   'episode': ['https://rickandmortyapi.com/api/episode/37'],\n",
       "   'url': 'https://rickandmortyapi.com/api/character/599',\n",
       "   'created': '2020-08-06T11:39:56.623Z'}]}"
      ]
     },
     "execution_count": 10,
     "metadata": {},
     "output_type": "execute_result"
    }
   ],
   "source": [
    "# r.json()"
   ]
  },
  {
   "cell_type": "code",
   "execution_count": null,
   "metadata": {
    "ExecuteTime": {
     "end_time": "2020-10-20T19:13:38.107562Z",
     "start_time": "2020-10-20T19:13:38.102389Z"
    }
   },
   "outputs": [],
   "source": []
  },
  {
   "cell_type": "code",
   "execution_count": null,
   "metadata": {},
   "outputs": [],
   "source": []
  }
 ],
 "metadata": {
  "kernelspec": {
   "display_name": "Python 3",
   "language": "python",
   "name": "python3"
  },
  "language_info": {
   "codemirror_mode": {
    "name": "ipython",
    "version": 3
   },
   "file_extension": ".py",
   "mimetype": "text/x-python",
   "name": "python",
   "nbconvert_exporter": "python",
   "pygments_lexer": "ipython3",
   "version": "3.7.6"
  },
  "toc": {
   "base_numbering": 1,
   "nav_menu": {},
   "number_sections": true,
   "sideBar": true,
   "skip_h1_title": false,
   "title_cell": "Table of Contents",
   "title_sidebar": "Contents",
   "toc_cell": false,
   "toc_position": {},
   "toc_section_display": true,
   "toc_window_display": false
  },
  "varInspector": {
   "cols": {
    "lenName": 16,
    "lenType": 16,
    "lenVar": 40
   },
   "kernels_config": {
    "python": {
     "delete_cmd_postfix": "",
     "delete_cmd_prefix": "del ",
     "library": "var_list.py",
     "varRefreshCmd": "print(var_dic_list())"
    },
    "r": {
     "delete_cmd_postfix": ") ",
     "delete_cmd_prefix": "rm(",
     "library": "var_list.r",
     "varRefreshCmd": "cat(var_dic_list()) "
    }
   },
   "types_to_exclude": [
    "module",
    "function",
    "builtin_function_or_method",
    "instance",
    "_Feature"
   ],
   "window_display": false
  }
 },
 "nbformat": 4,
 "nbformat_minor": 4
}
